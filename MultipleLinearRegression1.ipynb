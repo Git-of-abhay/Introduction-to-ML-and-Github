{
  "nbformat": 4,
  "nbformat_minor": 0,
  "metadata": {
    "colab": {
      "provenance": []
    },
    "kernelspec": {
      "name": "python3",
      "display_name": "Python 3"
    },
    "language_info": {
      "name": "python"
    }
  },
  "cells": [
    {
      "cell_type": "code",
      "execution_count": 1,
      "metadata": {
        "id": "vGyVc0sO0aQM"
      },
      "outputs": [],
      "source": [
        "import pandas as pd\n",
        "import numpy as np\n",
        "import matplotlib.pyplot as ply\n"
      ]
    },
    {
      "cell_type": "code",
      "source": [
        "\n",
        "# number of training examples\n",
        "m = 100\n",
        "\n",
        "# generate random features (x1, x2, x3, x4) in range [-10, 10]\n",
        "X = np.random.randint(-10, 11, size=(m, 4))\n",
        "\n",
        "# compute labels using F(x) = 2x1 + 3x2 + 4x3 - 5x4 + 6\n",
        "y = 2*X[:,0] + 3*X[:,1] + 4*X[:,2] - 5*X[:,3] + 6\n",
        "y = y.reshape(-1, 1)\n",
        "\n",
        "# initialize\n",
        "w = [5.0, 8.0, 9.0, 4.0]\n",
        "b = 20.0\n",
        "alpha = 0.001   # smaller learning rate\n",
        "epochs = 8000\n",
        "\n",
        "# cost function\n",
        "def compute_cost(X,y,w,b):\n",
        "    m = X.shape[0]\n",
        "    total = 0.0\n",
        "    for i in range(m):\n",
        "        xi = X[i]\n",
        "        yi = float(y[i])\n",
        "        hypo = sum(w[j]*xi[j] for j in range(4)) + b\n",
        "        err = hypo - yi\n",
        "        total += err**2\n",
        "    return total / (2*m)\n",
        "\n",
        "# gradient descent\n",
        "for epoch in range(1, epochs+1):\n",
        "    dw = [0.0, 0.0, 0.0, 0.0]\n",
        "    db = 0.0\n",
        "\n",
        "    for i in range(m):\n",
        "        xi = X[i]\n",
        "        yi = float(y[i])\n",
        "        hypo = sum(w[j]*xi[j] for j in range(4)) + b\n",
        "        err = hypo - yi\n",
        "        for j in range(4):\n",
        "            dw[j] += err * xi[j]\n",
        "        db += err\n",
        "\n",
        "    # update step (inside epochs loop!)\n",
        "    for j in range(4):\n",
        "        w[j] -= alpha * (dw[j] / m)\n",
        "    b -= alpha * (db / m)\n",
        "\n",
        "    if epoch % 1000 == 0:\n",
        "        cost = compute_cost(X,y,w,b)\n",
        "        print(f\"Epoch {epoch} | Cost {cost:.4f} | w = {[round(x,2) for x in w]} | b = {round(b,2)}\")\n",
        "\n",
        "print(\"\\nFinal parameters:\")\n",
        "print(\"w =\", [round(x,4) for x in w])\n",
        "print(\"b =\", round(b,4))\n",
        "print(\"True params: w = [2,3,4,-5], b = 6\")\n"
      ],
      "metadata": {
        "colab": {
          "base_uri": "https://localhost:8080/"
        },
        "id": "v3ar2FCv0qFi",
        "outputId": "1a19040a-35c1-4ec5-91f7-a65cd0bcce00"
      },
      "execution_count": 19,
      "outputs": [
        {
          "output_type": "stream",
          "name": "stderr",
          "text": [
            "/tmp/ipython-input-2394206546.py:38: DeprecationWarning: Conversion of an array with ndim > 0 to a scalar is deprecated, and will error in future. Ensure you extract a single element from your array before performing this operation. (Deprecated NumPy 1.25.)\n",
            "  yi = float(y[i])\n",
            "/tmp/ipython-input-2394206546.py:25: DeprecationWarning: Conversion of an array with ndim > 0 to a scalar is deprecated, and will error in future. Ensure you extract a single element from your array before performing this operation. (Deprecated NumPy 1.25.)\n",
            "  yi = float(y[i])\n"
          ]
        },
        {
          "output_type": "stream",
          "name": "stdout",
          "text": [
            "Epoch 1000 | Cost 13.2074 | w = [np.float64(2.02), np.float64(2.92), np.float64(3.99), np.float64(-5.01)] | b = 11.17\n",
            "Epoch 2000 | Cost 1.8288 | w = [np.float64(2.01), np.float64(2.97), np.float64(4.0), np.float64(-5.0)] | b = 7.92\n",
            "Epoch 3000 | Cost 0.2532 | w = [np.float64(2.0), np.float64(2.99), np.float64(4.0), np.float64(-5.0)] | b = 6.72\n",
            "Epoch 4000 | Cost 0.0351 | w = [np.float64(2.0), np.float64(3.0), np.float64(4.0), np.float64(-5.0)] | b = 6.27\n",
            "Epoch 5000 | Cost 0.0049 | w = [np.float64(2.0), np.float64(3.0), np.float64(4.0), np.float64(-5.0)] | b = 6.1\n",
            "Epoch 6000 | Cost 0.0007 | w = [np.float64(2.0), np.float64(3.0), np.float64(4.0), np.float64(-5.0)] | b = 6.04\n",
            "Epoch 7000 | Cost 0.0001 | w = [np.float64(2.0), np.float64(3.0), np.float64(4.0), np.float64(-5.0)] | b = 6.01\n",
            "Epoch 8000 | Cost 0.0000 | w = [np.float64(2.0), np.float64(3.0), np.float64(4.0), np.float64(-5.0)] | b = 6.01\n",
            "\n",
            "Final parameters:\n",
            "w = [np.float64(2.0), np.float64(2.9999), np.float64(4.0), np.float64(-5.0)]\n",
            "b = 6.0051\n",
            "True params: w = [2,3,4,-5], b = 6\n"
          ]
        }
      ]
    }
  ]
}