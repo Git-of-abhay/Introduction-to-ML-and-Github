{
  "nbformat": 4,
  "nbformat_minor": 0,
  "metadata": {
    "colab": {
      "provenance": [],
      "authorship_tag": "ABX9TyNZ0v8+0vW3fZk8/+02M8rK"
    },
    "kernelspec": {
      "name": "python3",
      "display_name": "Python 3"
    },
    "language_info": {
      "name": "python"
    }
  },
  "cells": [
    {
      "cell_type": "code",
      "execution_count": 22,
      "metadata": {
        "id": "asGdXIxwB0hQ"
      },
      "outputs": [],
      "source": [
        "import matplotlib.pyplot as plt\n",
        "import numpy as np"
      ]
    },
    {
      "cell_type": "code",
      "source": [
        "# revision of all\n",
        "#  linear regression with one feature\n",
        "w=1\n",
        "b=1\n",
        "x_train=np.array([3,6,12])\n",
        "y_train=np.array([6,11.999,25.0000002])\n",
        "\n",
        ""
      ],
      "metadata": {
        "id": "DT850pLLB4Q3"
      },
      "execution_count": 77,
      "outputs": []
    },
    {
      "cell_type": "code",
      "source": [
        "def compute_cost(x, y, w, b):\n",
        "    m = x.shape[0]\n",
        "    predictions = w * x + b\n",
        "    error = predictions - y\n",
        "    cost = (1 / (2 * m)) * np.sum(error ** 2)\n",
        "    return cost"
      ],
      "metadata": {
        "id": "b1zzKHRpE3TR"
      },
      "execution_count": 78,
      "outputs": []
    },
    {
      "cell_type": "code",
      "source": [
        "\n"
      ],
      "metadata": {
        "id": "Gk4wPhlrFLGB"
      },
      "execution_count": 45,
      "outputs": []
    },
    {
      "cell_type": "code",
      "source": [
        "\n",
        "def compute_gradient(x, y, w, b):\n",
        "    m = x.shape[0]\n",
        "    pred = w * x + b\n",
        "    error = pred - y\n",
        "    dw = (1/m) * np.sum(error * x)\n",
        "    db = (1/m) * np.sum(error)\n",
        "\n",
        "    return dw, db\n",
        "\n",
        "\n",
        "\n"
      ],
      "metadata": {
        "id": "c5dhSrOMG4_W"
      },
      "execution_count": 79,
      "outputs": []
    },
    {
      "cell_type": "code",
      "source": [
        "def compute_w_b(alpha, iters, x, y, w, b):\n",
        "    costs = []\n",
        "    m = x.shape[0]\n",
        "\n",
        "    for i in range(iters):\n",
        "\n",
        "        w_dj, b_dj = compute_gradient(x, y, w, b)\n",
        "\n",
        "\n",
        "        w = w - alpha * w_dj\n",
        "        b = b - alpha * b_dj\n",
        "\n",
        "\n",
        "        cost = compute_cost(x, y, w, b)\n",
        "        costs.append(cost)\n",
        "\n",
        "\n",
        "    plt.plot(costs)\n",
        "    plt.xlabel(\"Iteration\")\n",
        "    plt.ylabel(\"Cost\")\n",
        "    plt.title(\"Gradient Descent Progress\")\n",
        "    plt.show()\n",
        "\n",
        "    return w, b\n"
      ],
      "metadata": {
        "id": "aR1eeSIwH62a"
      },
      "execution_count": 80,
      "outputs": []
    },
    {
      "cell_type": "code",
      "source": [
        "\n",
        " alpha=0.01\n",
        " iter=200\n",
        "\n",
        "\n",
        "wd,bd= compute_w_b(alpha,iter,x_train,y_train,w,b)\n",
        "wd"
      ],
      "metadata": {
        "colab": {
          "base_uri": "https://localhost:8080/",
          "height": 489
        },
        "id": "hPzyel4lKyJt",
        "outputId": "dc6b4780-3fc6-4e4f-fcd9-5f730d536277"
      },
      "execution_count": 89,
      "outputs": [
        {
          "output_type": "display_data",
          "data": {
            "text/plain": [
              "<Figure size 640x480 with 1 Axes>"
            ],
            "image/png": "[encoded data removed]"
          },
          "metadata": {}
        },
        {
          "output_type": "execute_result",
          "data": {
            "text/plain": [
              "np.float64(2.0037348342299834)"
            ]
          },
          "metadata": {},
          "execution_count": 89
        }
      ]
    }
  ]
}