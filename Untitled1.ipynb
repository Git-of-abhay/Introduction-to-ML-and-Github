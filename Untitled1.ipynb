{
  "nbformat": 4,
  "nbformat_minor": 0,
  "metadata": {
    "colab": {
      "provenance": []
    },
    "kernelspec": {
      "name": "python3",
      "display_name": "Python 3"
    },
    "language_info": {
      "name": "python"
    }
  },
  "cells": [
    {
      "cell_type": "code",
      "execution_count": 2,
      "metadata": {
        "id": "gecsjVTiGI7z"
      },
      "outputs": [],
      "source": [
        "# Multiple Linear regression but this timee with vectorisation.\n",
        "import numpy as np\n"
      ]
    },
    {
      "cell_type": "code",
      "source": [
        "\n",
        "\n",
        "# number of training examples\n",
        "m = 200   # you can change this is chatgpt generated, becasue i wanna work on ML not mster Numpy\n",
        "n = 9     # number of features\n",
        "\n",
        "# generate random features in range [-10, 10]\n",
        "x = np.random.randint(-10, 11, size=(m, n))\n",
        "\n",
        "# choose \"true\" weights and bias\n",
        "true_w = np.array([1, -2, 3, -4, 5, -6, 7, -8, 9]).reshape(-1,1)  # shape (9,1)\n",
        "true_b = 15\n",
        "\n",
        "# compute labels\n",
        "y = x.dot(true_w) + true_b\n",
        "y = y.reshape(-1, 1)\n"
      ],
      "metadata": {
        "id": "_hEsXNEoGSuO"
      },
      "execution_count": 17,
      "outputs": []
    },
    {
      "cell_type": "code",
      "source": [
        "w = np.zeros((n,1))\n",
        "b = 0.0\n",
        "alpha = 0.001\n",
        "epochs = 9000\n",
        "\n",
        "for epoch in range(1, epochs+1):\n",
        "    # hypothesis\n",
        "    hypo = x.dot(w) + b   # shape (m,1)\n",
        "\n",
        "    # gradients\n",
        "    dw = (1/m) * x.T.dot(hypo - y)   # shape (9,1)\n",
        "    db = (1/m) * np.sum(hypo - y)    # scalar\n",
        "\n",
        "    # update\n",
        "    w -= alpha * dw\n",
        "    b -= alpha * db\n",
        "# print(\"\\nFinal weights:\\n\", np.round(w.T,4))\n",
        "# print(\"Final bias:\", round(b,4))\n",
        "# print(\"True weights:\", true_w.T)\n",
        "# print(\"True bias:\", true_b)\n"
      ],
      "metadata": {
        "id": "TjP2HcqzH1O-"
      },
      "execution_count": 18,
      "outputs": []
    }
  ]
}