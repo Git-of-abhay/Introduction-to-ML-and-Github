{
  "nbformat": 4,
  "nbformat_minor": 0,
  "metadata": {
    "colab": {
      "provenance": [],
      "authorship_tag": "ABX9TyMaGtYHyu4zKpz4kwNeHJZU",
      "include_colab_link": true
    },
    "kernelspec": {
      "name": "python3",
      "display_name": "Python 3"
    },
    "language_info": {
      "name": "python"
    }
  },
  "cells": [
    {
      "cell_type": "markdown",
      "metadata": {
        "id": "view-in-github",
        "colab_type": "text"
      },
      "source": [
        "<a href=\"https://colab.research.google.com/github/Git-of-abhay/Introduction-to-ML-and-Github/blob/main/MultiVariableLinearRegression.ipynb\" target=\"_parent\"><img src=\"https://colab.research.google.com/assets/colab-badge.svg\" alt=\"Open In Colab\"/></a>"
      ]
    },
    {
      "cell_type": "code",
      "execution_count": 21,
      "metadata": {
        "id": "AeJ2cuTxUhy6"
      },
      "outputs": [],
      "source": [
        "import numpy as np\n",
        "import matplotlib.pyplot as plt"
      ]
    },
    {
      "cell_type": "code",
      "source": [
        "\n",
        "# Input features (x1, x2, x3)\n",
        "x_train = np.array([\n",
        "    [1, 0, 0],   # simple case\n",
        "    [0, 1, 0],\n",
        "    [0, 0, 1],\n",
        "    [1, 2, 3],\n",
        "    [2, 3, 4],\n",
        "    [3, 1, 2],\n",
        "    [5, 2, 1],\n",
        "    [2, 2, 2],\n",
        "    [4, 5, 6],\n",
        "    [7, 8, 9]\n",
        "])\n",
        "y_train = np.array([\n",
        "    2*1 + 3*0 + 4*0 - 5,   # = -3\n",
        "    2*0 + 3*1 + 4*0 - 5,   # = -2\n",
        "    2*0 + 3*0 + 4*1 - 5,   # = -1\n",
        "    2*1 + 3*2 + 4*3 - 5,   # = 17\n",
        "    2*2 + 3*3 + 4*4 - 5,   # = 29\n",
        "    2*3 + 3*1 + 4*2 - 5,   # = 13\n",
        "    2*5 + 3*2 + 4*1 - 5,   # = 15\n",
        "    2*2 + 3*2 + 4*2 - 5,   # = 13\n",
        "    2*4 + 3*5 + 4*6 - 5,   # = 49\n",
        "    2*7 + 3*8 + 4*9 - 5    # = 77\n",
        "])\n",
        "#  predictionn start with cost function\n",
        "# since there are multiple variable , we will use lsit\\\n",
        "\n",
        "w=np.array([1,1,1])\n",
        "\n",
        "b=2\n",
        "\n",
        "m= len(x_train)\n",
        "\n",
        "# minimize cost;\n",
        "alpha = 0.005\n",
        "epoch = 5000\n",
        "for i in  range (epoch):\n",
        "  hypo= np.dot(x_train,w) + b\n",
        "  cost= (1/(2*m)) * sum((hypo - y_train)**2)\n",
        "  dw = (1/m) * np.dot(x_train.T,(hypo-y_train))\n",
        "  db= (1/m) * sum(hypo-y_train)\n",
        "  w = w - alpha * dw\n",
        "  b = b - alpha * db\n",
        "\n",
        "print(w,b)\n"
      ],
      "metadata": {
        "colab": {
          "base_uri": "https://localhost:8080/"
        },
        "id": "QntFlaWrXuG4",
        "outputId": "28ceb47c-b306-47af-c431-fc4b36176769"
      },
      "execution_count": 51,
      "outputs": [
        {
          "output_type": "stream",
          "name": "stdout",
          "text": [
            "[1.99499081 3.01875555 3.98672083] -4.994263130159925\n"
          ]
        }
      ]
    }
  ]
}